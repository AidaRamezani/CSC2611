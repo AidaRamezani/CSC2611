{
 "cells": [
  {
   "cell_type": "code",
   "execution_count": 1,
   "id": "valid-following",
   "metadata": {},
   "outputs": [],
   "source": [
    "import nltk\n",
    "from nltk.corpus import brown, stopwords\n",
    "import string\n",
    "\n",
    "from collections import Counter\n",
    "from nltk.util import ngrams\n",
    "import numpy as np\n",
    "from sklearn.decomposition import PCA\n",
    "from sklearn.metrics.pairwise import cosine_similarity\n",
    "from scipy.stats import pearsonr\n"
   ]
  },
  {
   "cell_type": "code",
   "execution_count": 2,
   "id": "ranking-amber",
   "metadata": {},
   "outputs": [],
   "source": [
    "punctuation = [p for p in string.punctuation]\n",
    "\n",
    "\n",
    "stop = stopwords.words('english')"
   ]
  },
  {
   "cell_type": "code",
   "execution_count": 3,
   "id": "popular-remedy",
   "metadata": {
    "scrolled": false
   },
   "outputs": [],
   "source": [
    "TABLE1 = ['brother', 'asylum', 'cord', 'signature', 'gem', 'bird', 'jewel', 'woodland', 'tumbler', 'graveyard', 'fruit', 'mound', 'wizard', 'pillow', 'rooster', 'automobile', 'magician', 'cushion', 'shore', 'stove', 'slave', 'cock', 'furnace', 'madhouse', 'car', 'midday', 'boy', 'cemetery', 'hill', 'oracle', 'coast', 'crane', 'autograph', 'food', 'voyage', 'serf', 'string', 'implement', 'forest', 'grin', 'sage', 'lad', 'glass', 'noon', 'monk', 'smile', 'tool']\n",
    "\n",
    "PAIRS = [('cord', 'smile', 0.02), ('rooster, voyage', 0.04), ('noon', 'string', 0.04), ('fruit', 'furnace' ,0.05) , ('autograph', 'shore', 0.06),\n",
    "         ('automobile', 'wizard', 0.11), ('mound', 'stove', 0.14), ('grin', 'implement', 0.18), ('asylum', 'fruit', 0.19), ('asylum', 'monk', 0.39),\n",
    "         ('graveyard', 'madhouse', 0.42), ('glass','magician', 0.44), ('boy', 'rooster', 0.44), ('cushion', 'jewel' , 0.45), ('monk', 'slave', 0.57),\n",
    "         ('asylum', 'cemetery', 0.79), ('coast', 'forest', 0.85), ('grin', 'land', 0.88), ('shore', 'woodland', 0.9), ('monk', 'oracle', 0.91), ('boy', 'sage', .96),\n",
    "         ('automobile', 'cushion', 0.97), ('mound', 'shore', 0.97), ('lad', 'wizard', 0.99), ('forest', 'graveyard', 1), ('food', 'rooster', 1.09), ('cemetery', 'woodland', 1.24),\n",
    "         ('coast', 'hill', 1.26), ('furnace', 'implement',1.37), ('crane', 'rooster', 1.41), ('hill', 'woodland', 1.48), ('car', 'journey', 1.55), ('cemetery', 'mound', 1.69),\n",
    "         ('glass', 'jewel', 1.78), ('magician', 'oracle', 1.82), ('crane', 'implement', 2.37), ('brother', 'lad', 2.41), ('sage', 'wizard', 2.46),\n",
    "         ('oracle', 'sage', 2.61), ('bird', 'crane', 2.63), ('food', 'fruit', 2.69), ('brother', 'monk', 2.74), ('asylum','madhouse', 3.04), ('furnace', 'stove', 3.11), ('magician', 'wizard', 3.21),\n",
    "         ('hill', 'mound', 3.29), ('cord', 'string', 3.41), ('glass', 'tumbler', 3.45), ('grin', 'smile', 3.46), ('serf', 'slave', 3.46), ('journey', 'voyage', 3.58), ('autograph', 'signature', 3.59),\n",
    "         ('coast', 'shore', 3.6), ('forest', 'woodland', 3.65), ('implement', 'tool',3.66), ('cock', 'rooster', 3.68), ('boy', 'lad', 3.82), ('cushion','pillow', 3.84),\n",
    "         ('cemetery', 'graveyard', 3.88), ('automobile', 'car', 3.92), ('midday', 'noon', 3.94), ('gem', 'jewel', 3.94)]\n",
    "\n"
   ]
  },
  {
   "cell_type": "code",
   "execution_count": 6,
   "id": "religious-science",
   "metadata": {},
   "outputs": [],
   "source": [
    "def in_brown_corpus(corpus, w):\n",
    "    return w in corpus\n",
    "\n",
    "def get_brown_frequencies(n = 5000):\n",
    "    freq_dict = nltk.FreqDist(w for w in brown.words())\n",
    "    freq_words = freq_dict.most_common(n)\n",
    "    w = [item[0] for item in freq_words if item[0] not in punctuation and item[0] not in stop]\n",
    "    least_common_words = w[-5:]\n",
    "    print('Brown corpus least common words', least_common_words)\n",
    "    return w, least_common_words\n",
    "\n",
    "def get_bigrams(W):\n",
    "    bigrams = ngrams(brown.words(), 2)\n",
    "    bigrams_freq = Counter(bigrams)\n",
    "    W_bigrams = np.zeros(shape=(len(W), len(W)))\n",
    "    for i ,w1 in enumerate(W):\n",
    "        for j, w2 in enumerate(W):\n",
    "            W_bigrams[i, j] = bigrams_freq[(w1, w2)] + 1 #1-smoothing\n",
    "\n",
    "    return W_bigrams\n",
    "\n",
    "\n",
    "\n",
    "def get_lsa(M):\n",
    "    pca = PCA(n_components=10)\n",
    "    M2_10 = pca.fit_transform(M)\n",
    "\n",
    "    pca = PCA(n_components=100)\n",
    "    M2_100 = pca.fit_transform(M)\n",
    "\n",
    "\n",
    "    pca = PCA(n_components=300)\n",
    "    M2_300 = pca.fit_transform(M)\n",
    "\n",
    "    return M2_10, M2_100, M2_300\n",
    "\n",
    "\n",
    "def get_ppmi(M1):\n",
    "\n",
    "\n",
    "    #ppmi = max (0, log (p (y | x ) / p(y))\n",
    "    # p(y | x)\n",
    "    row_sum = M1.sum(axis= 0)\n",
    "    \n",
    "    p_y_x = M1 / row_sum\n",
    "\n",
    "    col_sum = M1.sum(axis = 1)\n",
    "    p_y = col_sum / col_sum.sum()\n",
    "\n",
    "\n",
    "    ppmi = np.maximum(0, np.log(p_y_x / p_y))\n",
    "    return ppmi\n",
    "\n",
    "\n",
    "def get_similarity(M, W, pairs):\n",
    "    similarities =[]\n",
    "    for item in pairs:\n",
    "        index1 = W.index(item[0])\n",
    "        index2 = W.index(item[1])\n",
    "        similarity = cosine_similarity([M[index1]], [M[index2]])[0][0]\n",
    "        similarities.append((item[0], item[1], similarity))\n",
    "\n",
    "    return similarities\n",
    "\n",
    "\n",
    "def get_correlation(pairs1, pairs2):\n",
    "    x = []\n",
    "    y = []\n",
    "    for item1, item2 in zip(pairs1, pairs2):\n",
    "        x.append(item1[2])\n",
    "        y.append(item2[2])\n",
    "\n",
    "    return pearsonr(x, y)\n",
    "\n",
    "\n",
    "\n",
    "\n",
    "\n",
    "\n"
   ]
  },
  {
   "cell_type": "code",
   "execution_count": 7,
   "id": "beginning-fundamental",
   "metadata": {},
   "outputs": [
    {
     "name": "stdout",
     "output_type": "stream",
     "text": [
      "Brown corpus least common words ['expanded', 'emphasize', 'Manhattan', 'temporarily', 'puts']\n"
     ]
    }
   ],
   "source": [
    "#Step 2\n",
    "W, least_common_words = get_brown_frequencies()"
   ]
  },
  {
   "cell_type": "code",
   "execution_count": 8,
   "id": "rural-finish",
   "metadata": {},
   "outputs": [
    {
     "data": {
      "text/plain": [
       "4880"
      ]
     },
     "execution_count": 8,
     "metadata": {},
     "output_type": "execute_result"
    }
   ],
   "source": [
    "new_words = [w for w in TABLE1 if not in_brown_corpus(W, w)]\n",
    "W = W + new_words\n",
    "n = len(W)\n",
    "n"
   ]
  },
  {
   "cell_type": "code",
   "execution_count": 9,
   "id": "centered-purse",
   "metadata": {},
   "outputs": [],
   "source": [
    "#step 3\n",
    "#getting word-context vector\n",
    "M1 = get_bigrams(W)"
   ]
  },
  {
   "cell_type": "code",
   "execution_count": 10,
   "id": "ethical-collector",
   "metadata": {},
   "outputs": [],
   "source": [
    "#step 4\n",
    "#getting ppmi\n",
    "M1_plus = get_ppmi(M1)"
   ]
  },
  {
   "cell_type": "code",
   "execution_count": 11,
   "id": "outdoor-masters",
   "metadata": {},
   "outputs": [],
   "source": [
    "#step 5\n",
    "M2_10 , M2_100, M2_300 = get_lsa(M1_plus)"
   ]
  },
  {
   "cell_type": "code",
   "execution_count": 12,
   "id": "suspected-scene",
   "metadata": {
    "scrolled": true
   },
   "outputs": [
    {
     "data": {
      "text/plain": [
       "[('cord', 'smile', 0.02),\n",
       " ('noon', 'string', 0.04),\n",
       " ('fruit', 'furnace', 0.05),\n",
       " ('autograph', 'shore', 0.06),\n",
       " ('automobile', 'wizard', 0.11),\n",
       " ('mound', 'stove', 0.14),\n",
       " ('grin', 'implement', 0.18),\n",
       " ('asylum', 'fruit', 0.19),\n",
       " ('asylum', 'monk', 0.39),\n",
       " ('graveyard', 'madhouse', 0.42),\n",
       " ('glass', 'magician', 0.44),\n",
       " ('boy', 'rooster', 0.44),\n",
       " ('cushion', 'jewel', 0.45),\n",
       " ('monk', 'slave', 0.57),\n",
       " ('asylum', 'cemetery', 0.79),\n",
       " ('coast', 'forest', 0.85),\n",
       " ('grin', 'land', 0.88),\n",
       " ('shore', 'woodland', 0.9),\n",
       " ('monk', 'oracle', 0.91),\n",
       " ('boy', 'sage', 0.96),\n",
       " ('automobile', 'cushion', 0.97),\n",
       " ('mound', 'shore', 0.97),\n",
       " ('lad', 'wizard', 0.99),\n",
       " ('forest', 'graveyard', 1),\n",
       " ('food', 'rooster', 1.09),\n",
       " ('cemetery', 'woodland', 1.24),\n",
       " ('coast', 'hill', 1.26),\n",
       " ('furnace', 'implement', 1.37),\n",
       " ('crane', 'rooster', 1.41),\n",
       " ('hill', 'woodland', 1.48),\n",
       " ('car', 'journey', 1.55),\n",
       " ('cemetery', 'mound', 1.69),\n",
       " ('glass', 'jewel', 1.78),\n",
       " ('magician', 'oracle', 1.82),\n",
       " ('crane', 'implement', 2.37),\n",
       " ('brother', 'lad', 2.41),\n",
       " ('sage', 'wizard', 2.46),\n",
       " ('oracle', 'sage', 2.61),\n",
       " ('bird', 'crane', 2.63),\n",
       " ('food', 'fruit', 2.69),\n",
       " ('brother', 'monk', 2.74),\n",
       " ('asylum', 'madhouse', 3.04),\n",
       " ('furnace', 'stove', 3.11),\n",
       " ('magician', 'wizard', 3.21),\n",
       " ('hill', 'mound', 3.29),\n",
       " ('cord', 'string', 3.41),\n",
       " ('glass', 'tumbler', 3.45),\n",
       " ('grin', 'smile', 3.46),\n",
       " ('serf', 'slave', 3.46),\n",
       " ('journey', 'voyage', 3.58),\n",
       " ('autograph', 'signature', 3.59),\n",
       " ('coast', 'shore', 3.6),\n",
       " ('forest', 'woodland', 3.65),\n",
       " ('implement', 'tool', 3.66),\n",
       " ('cock', 'rooster', 3.68),\n",
       " ('boy', 'lad', 3.82),\n",
       " ('cushion', 'pillow', 3.84),\n",
       " ('cemetery', 'graveyard', 3.88),\n",
       " ('automobile', 'car', 3.92),\n",
       " ('midday', 'noon', 3.94),\n",
       " ('gem', 'jewel', 3.94)]"
      ]
     },
     "execution_count": 12,
     "metadata": {},
     "output_type": "execute_result"
    }
   ],
   "source": [
    "#step 6\n",
    "#pairs\n",
    "P = [item for item in PAIRS if item[0] in W and item[1] in W]\n",
    "\n",
    "P"
   ]
  },
  {
   "cell_type": "code",
   "execution_count": 13,
   "id": "linear-farming",
   "metadata": {},
   "outputs": [],
   "source": [
    "#Step 7\n",
    "#getting similarities\n",
    "S_M1 = get_similarity(M1, W, P)\n",
    "S_M1_plus = get_similarity(M1_plus, W, P)\n",
    "S_M2_10 = get_similarity(M2_10, W, P)\n",
    "S_M2_100 = get_similarity(M2_100, W, P)\n",
    "S_M2_300 = get_similarity(M2_300, W, P)"
   ]
  },
  {
   "cell_type": "code",
   "execution_count": 14,
   "id": "detected-proposition",
   "metadata": {
    "scrolled": true
   },
   "outputs": [
    {
     "data": {
      "text/plain": [
       "[('cord', 'smile', 0.9989815513643365),\n",
       " ('noon', 'string', 0.9989781528882894),\n",
       " ('fruit', 'furnace', 0.9995908556328321),\n",
       " ('autograph', 'shore', 0.9965543623117976),\n",
       " ('automobile', 'wizard', 0.9952859562765184),\n",
       " ('mound', 'stove', 0.9997952078640164),\n",
       " ('grin', 'implement', 0.9998976196739395),\n",
       " ('asylum', 'fruit', 0.9996933303814922),\n",
       " ('asylum', 'monk', 0.99938807094304),\n",
       " ('graveyard', 'madhouse', 0.9999999999999944),\n",
       " ('glass', 'magician', 0.9966781286469948),\n",
       " ('boy', 'rooster', 0.9783204794030969),\n",
       " ('cushion', 'jewel', 0.9997953965546035),\n",
       " ('monk', 'slave', 0.9977599826847963),\n",
       " ('asylum', 'cemetery', 0.9998976196739395),\n",
       " ('coast', 'forest', 0.9946503878579214),\n",
       " ('grin', 'land', 0.9892898265880599),\n",
       " ('shore', 'woodland', 0.9965543623117976),\n",
       " ('monk', 'oracle', 0.99938807094304),\n",
       " ('boy', 'sage', 0.9782174844972484),\n",
       " ('automobile', 'cushion', 0.9950800742908119),\n",
       " ('mound', 'shore', 0.9964518339763868),\n",
       " ('lad', 'wizard', 0.9999999999999944),\n",
       " ('forest', 'graveyard', 0.9948567858909847),\n",
       " ('food', 'rooster', 0.9952083846271763),\n",
       " ('cemetery', 'woodland', 0.9998976196739395),\n",
       " ('coast', 'hill', 0.9988764200131564),\n",
       " ('furnace', 'implement', 0.9997952078640164),\n",
       " ('crane', 'rooster', 0.9999999999999944),\n",
       " ('hill', 'woodland', 0.9992855445470532),\n",
       " ('car', 'journey', 0.9868056074223517),\n",
       " ('cemetery', 'mound', 0.9997952078640164),\n",
       " ('glass', 'jewel', 0.9966781286469948),\n",
       " ('magician', 'oracle', 0.9999999999999944),\n",
       " ('crane', 'implement', 0.9998976196739395),\n",
       " ('brother', 'lad', 0.9981753719003006),\n",
       " ('sage', 'wizard', 0.9998976196739395),\n",
       " ('oracle', 'sage', 0.9998976196739395),\n",
       " ('bird', 'crane', 0.9991853446318303),\n",
       " ('food', 'fruit', 0.9953036324668533),\n",
       " ('brother', 'monk', 0.9975610550734471),\n",
       " ('asylum', 'madhouse', 0.9999999999999944),\n",
       " ('furnace', 'stove', 0.9997952078640164),\n",
       " ('magician', 'wizard', 0.9999999999999944),\n",
       " ('hill', 'mound', 0.999183027839325),\n",
       " ('cord', 'string', 0.9992846664178942),\n",
       " ('glass', 'tumbler', 0.9966781286469948),\n",
       " ('grin', 'smile', 0.9990842146976463),\n",
       " ('serf', 'slave', 0.9983734220165836),\n",
       " ('journey', 'voyage', 0.999182526393561),\n",
       " ('autograph', 'signature', 0.9995908348345017),\n",
       " ('coast', 'shore', 0.9961451897660039),\n",
       " ('forest', 'woodland', 0.9948567858909847),\n",
       " ('implement', 'tool', 0.9991840294510043),\n",
       " ('cock', 'rooster', 0.9999999999999944),\n",
       " ('boy', 'lad', 0.9783204794030969),\n",
       " ('cushion', 'pillow', 0.9997953965546035),\n",
       " ('cemetery', 'graveyard', 0.9998976196739395),\n",
       " ('automobile', 'car', 0.9818011469542266),\n",
       " ('midday', 'noon', 0.999488914691136),\n",
       " ('gem', 'jewel', 0.9999999999999944)]"
      ]
     },
     "execution_count": 14,
     "metadata": {},
     "output_type": "execute_result"
    }
   ],
   "source": [
    "S_M1"
   ]
  },
  {
   "cell_type": "code",
   "execution_count": 15,
   "id": "written-spotlight",
   "metadata": {
    "scrolled": true
   },
   "outputs": [
    {
     "data": {
      "text/plain": [
       "[('cord', 'smile', 0.016962436970403748),\n",
       " ('noon', 'string', 0.009904477174215293),\n",
       " ('fruit', 'furnace', 0.027093028399408206),\n",
       " ('autograph', 'shore', 0.07264154208170073),\n",
       " ('automobile', 'wizard', 0.05589987777998079),\n",
       " ('mound', 'stove', 0.03927941579164186),\n",
       " ('grin', 'implement', 0.19860535089717707),\n",
       " ('asylum', 'fruit', 0.1386949305245328),\n",
       " ('asylum', 'monk', 0.08978740719866643),\n",
       " ('graveyard', 'madhouse', 0.9999999999999991),\n",
       " ('glass', 'magician', 0.07741801887413946),\n",
       " ('boy', 'rooster', 0.05248623173379396),\n",
       " ('cushion', 'jewel', 0.14718775653722987),\n",
       " ('monk', 'slave', 0.006058687103052774),\n",
       " ('asylum', 'cemetery', 0.9999999999999991),\n",
       " ('coast', 'forest', 0.06756857202257152),\n",
       " ('grin', 'land', 0.057119823283641485),\n",
       " ('shore', 'woodland', 0.07264154208170073),\n",
       " ('monk', 'oracle', 0.08978740719866643),\n",
       " ('boy', 'sage', 0.05248623173379396),\n",
       " ('automobile', 'cushion', 0.008021180646739637),\n",
       " ('mound', 'shore', 0.014024452265850182),\n",
       " ('lad', 'wizard', 0.9999999999999991),\n",
       " ('forest', 'graveyard', 0.045888213096235385),\n",
       " ('food', 'rooster', 0.04920704845562094),\n",
       " ('cemetery', 'woodland', 0.9999999999999991),\n",
       " ('coast', 'hill', 0.010083240116007704),\n",
       " ('furnace', 'implement', 0.038796085709707114),\n",
       " ('crane', 'rooster', 0.9999999999999991),\n",
       " ('hill', 'woodland', 0.09488734316495315),\n",
       " ('car', 'journey', 0.050947333212387036),\n",
       " ('cemetery', 'mound', 0.19306380156518038),\n",
       " ('glass', 'jewel', 0.07741801887413946),\n",
       " ('magician', 'oracle', 0.9999999999999991),\n",
       " ('crane', 'implement', 0.19860535089717707),\n",
       " ('brother', 'lad', 0.06758693136554307),\n",
       " ('sage', 'wizard', 0.9999999999999991),\n",
       " ('oracle', 'sage', 0.9999999999999991),\n",
       " ('bird', 'crane', 0.09122136376201992),\n",
       " ('food', 'fruit', 0.028222584431373005),\n",
       " ('brother', 'monk', 0.006060796451906577),\n",
       " ('asylum', 'madhouse', 0.9999999999999991),\n",
       " ('furnace', 'stove', 0.03974304433622365),\n",
       " ('magician', 'wizard', 0.9999999999999991),\n",
       " ('hill', 'mound', 0.018319311191845697),\n",
       " ('cord', 'string', 0.01884088261734021),\n",
       " ('glass', 'tumbler', 0.07741801887413946),\n",
       " ('grin', 'smile', 0.08851587038421747),\n",
       " ('serf', 'slave', 0.06756206582023064),\n",
       " ('journey', 'voyage', 0.014696848171386945),\n",
       " ('autograph', 'signature', 0.38871046290942557),\n",
       " ('coast', 'shore', 0.007719281484502596),\n",
       " ('forest', 'woodland', 0.045888213096235385),\n",
       " ('implement', 'tool', 0.014943264335848454),\n",
       " ('cock', 'rooster', 0.9999999999999991),\n",
       " ('boy', 'lad', 0.05248623173379396),\n",
       " ('cushion', 'pillow', 0.14718775653722987),\n",
       " ('cemetery', 'graveyard', 0.9999999999999991),\n",
       " ('automobile', 'car', 0.05980769214682118),\n",
       " ('midday', 'noon', 0.01923903752063527),\n",
       " ('gem', 'jewel', 0.9999999999999991)]"
      ]
     },
     "execution_count": 15,
     "metadata": {},
     "output_type": "execute_result"
    }
   ],
   "source": [
    "S_M1_plus"
   ]
  },
  {
   "cell_type": "code",
   "execution_count": 16,
   "id": "opposite-touch",
   "metadata": {
    "scrolled": true
   },
   "outputs": [
    {
     "data": {
      "text/plain": [
       "[('cord', 'smile', 0.45577424194097405),\n",
       " ('noon', 'string', 0.9733577895598542),\n",
       " ('fruit', 'furnace', 0.9535371701033949),\n",
       " ('autograph', 'shore', 0.9793053494529033),\n",
       " ('automobile', 'wizard', 0.4865365131225633),\n",
       " ('mound', 'stove', 0.9844988795610423),\n",
       " ('grin', 'implement', 0.9897515966255357),\n",
       " ('asylum', 'fruit', 0.9599557299789397),\n",
       " ('asylum', 'monk', 0.45142757160929314),\n",
       " ('graveyard', 'madhouse', 0.9999999999999998),\n",
       " ('glass', 'magician', 0.6994217986865672),\n",
       " ('boy', 'rooster', -0.6001931310206239),\n",
       " ('cushion', 'jewel', 0.9961445348235589),\n",
       " ('monk', 'slave', 0.09031525490026938),\n",
       " ('asylum', 'cemetery', 0.9999999999999998),\n",
       " ('coast', 'forest', 0.43440256363546514),\n",
       " ('grin', 'land', -0.728992329321353),\n",
       " ('shore', 'woodland', 0.9793053494529033),\n",
       " ('monk', 'oracle', 0.45142757160929314),\n",
       " ('boy', 'sage', -0.6001931310206239),\n",
       " ('automobile', 'cushion', 0.5282165200950413),\n",
       " ('mound', 'shore', 0.979240273781126),\n",
       " ('lad', 'wizard', 0.9999999999999998),\n",
       " ('forest', 'graveyard', 0.15864853789006775),\n",
       " ('food', 'rooster', -0.5616839212557992),\n",
       " ('cemetery', 'woodland', 0.9999999999999998),\n",
       " ('coast', 'hill', 0.15033121219160045),\n",
       " ('furnace', 'implement', 0.9803690980538373),\n",
       " ('crane', 'rooster', 0.9999999999999998),\n",
       " ('hill', 'woodland', 0.4901035405003851),\n",
       " ('car', 'journey', -0.226520990885175),\n",
       " ('cemetery', 'mound', 0.9880046524591357),\n",
       " ('glass', 'jewel', 0.6994217986865672),\n",
       " ('magician', 'oracle', 0.9999999999999998),\n",
       " ('crane', 'implement', 0.9897515966255357),\n",
       " ('brother', 'lad', 0.27836568278528195),\n",
       " ('sage', 'wizard', 0.9999999999999998),\n",
       " ('oracle', 'sage', 0.9999999999999998),\n",
       " ('bird', 'crane', 0.5613591449119331),\n",
       " ('food', 'fruit', -0.42593532555342084),\n",
       " ('brother', 'monk', 0.8932305879728109),\n",
       " ('asylum', 'madhouse', 0.9999999999999998),\n",
       " ('furnace', 'stove', 0.991482316013887),\n",
       " ('magician', 'wizard', 0.9999999999999998),\n",
       " ('hill', 'mound', 0.4567110997091176),\n",
       " ('cord', 'string', 0.9928015632921638),\n",
       " ('glass', 'tumbler', 0.6994217986865672),\n",
       " ('grin', 'smile', 0.46987393890943463),\n",
       " ('serf', 'slave', 0.856332049976782),\n",
       " ('journey', 'voyage', 0.6944982028856757),\n",
       " ('autograph', 'signature', 0.7214022720113962),\n",
       " ('coast', 'shore', 0.8257010989521528),\n",
       " ('forest', 'woodland', 0.15864853789006775),\n",
       " ('implement', 'tool', 0.917731134325359),\n",
       " ('cock', 'rooster', 0.9999999999999998),\n",
       " ('boy', 'lad', -0.6001931310206239),\n",
       " ('cushion', 'pillow', 0.9961445348235589),\n",
       " ('cemetery', 'graveyard', 0.9999999999999998),\n",
       " ('automobile', 'car', -0.5314033556862793),\n",
       " ('midday', 'noon', 0.9645019458345029),\n",
       " ('gem', 'jewel', 0.9999999999999998)]"
      ]
     },
     "execution_count": 16,
     "metadata": {},
     "output_type": "execute_result"
    }
   ],
   "source": [
    "S_M2_10"
   ]
  },
  {
   "cell_type": "code",
   "execution_count": 17,
   "id": "careful-disease",
   "metadata": {
    "scrolled": true
   },
   "outputs": [
    {
     "data": {
      "text/plain": [
       "[('cord', 'smile', 0.10786152466001751),\n",
       " ('noon', 'string', 0.6650041557044288),\n",
       " ('fruit', 'furnace', 0.6856452340937761),\n",
       " ('autograph', 'shore', 0.7437825476785465),\n",
       " ('automobile', 'wizard', 0.16766622726909794),\n",
       " ('mound', 'stove', 0.8759670697849667),\n",
       " ('grin', 'implement', 0.7525038929341152),\n",
       " ('asylum', 'fruit', 0.7588893023225667),\n",
       " ('asylum', 'monk', 0.22007116922676043),\n",
       " ('graveyard', 'madhouse', 0.9999999999999998),\n",
       " ('glass', 'magician', 0.12245618035674846),\n",
       " ('boy', 'rooster', -0.3623230619272046),\n",
       " ('cushion', 'jewel', 0.8810494816327551),\n",
       " ('monk', 'slave', -0.00019826021951712671),\n",
       " ('asylum', 'cemetery', 0.9999999999999997),\n",
       " ('coast', 'forest', 0.30201948259757444),\n",
       " ('grin', 'land', -0.30036229483234006),\n",
       " ('shore', 'woodland', 0.7437825476785466),\n",
       " ('monk', 'oracle', 0.22007116922676054),\n",
       " ('boy', 'sage', -0.3623230619272047),\n",
       " ('automobile', 'cushion', 0.11908230241322532),\n",
       " ('mound', 'shore', 0.6761068950395086),\n",
       " ('lad', 'wizard', 0.9999999999999998),\n",
       " ('forest', 'graveyard', 0.022068037241856426),\n",
       " ('food', 'rooster', -0.28146645319475344),\n",
       " ('cemetery', 'woodland', 0.9999999999999997),\n",
       " ('coast', 'hill', -0.006532685940194327),\n",
       " ('furnace', 'implement', 0.6899661561816666),\n",
       " ('crane', 'rooster', 0.9999999999999997),\n",
       " ('hill', 'woodland', 0.17667332408755523),\n",
       " ('car', 'journey', -0.003907878623688934),\n",
       " ('cemetery', 'mound', 0.868946861993788),\n",
       " ('glass', 'jewel', 0.12245618035674846),\n",
       " ('magician', 'oracle', 0.9999999999999997),\n",
       " ('crane', 'implement', 0.7525038929341153),\n",
       " ('brother', 'lad', 0.07718169805797725),\n",
       " ('sage', 'wizard', 0.9999999999999998),\n",
       " ('oracle', 'sage', 0.9999999999999997),\n",
       " ('bird', 'crane', 0.31589395440460577),\n",
       " ('food', 'fruit', -0.0642554138348521),\n",
       " ('brother', 'monk', 0.1140084665688043),\n",
       " ('asylum', 'madhouse', 0.9999999999999998),\n",
       " ('furnace', 'stove', 0.854958856436036),\n",
       " ('magician', 'wizard', 0.9999999999999998),\n",
       " ('hill', 'mound', 0.1527324751370252),\n",
       " ('cord', 'string', 0.8842920561736135),\n",
       " ('glass', 'tumbler', 0.12245618035674846),\n",
       " ('grin', 'smile', 0.13710406641781603),\n",
       " ('serf', 'slave', 0.3202560865798837),\n",
       " ('journey', 'voyage', 0.42116721051349604),\n",
       " ('autograph', 'signature', 0.6089867722075231),\n",
       " ('coast', 'shore', 0.33315899363083273),\n",
       " ('forest', 'woodland', 0.022068037241856426),\n",
       " ('implement', 'tool', 0.4289952071052089),\n",
       " ('cock', 'rooster', 0.9999999999999998),\n",
       " ('boy', 'lad', -0.36232306192720476),\n",
       " ('cushion', 'pillow', 0.8810494816327551),\n",
       " ('cemetery', 'graveyard', 0.9999999999999997),\n",
       " ('automobile', 'car', -0.1601857044574411),\n",
       " ('midday', 'noon', 0.7192582737807869),\n",
       " ('gem', 'jewel', 0.9999999999999998)]"
      ]
     },
     "execution_count": 17,
     "metadata": {},
     "output_type": "execute_result"
    }
   ],
   "source": [
    "S_M2_100"
   ]
  },
  {
   "cell_type": "code",
   "execution_count": 18,
   "id": "radio-divorce",
   "metadata": {
    "scrolled": true
   },
   "outputs": [
    {
     "data": {
      "text/plain": [
       "[('cord', 'smile', 0.08734374612346854),\n",
       " ('noon', 'string', 0.3592197486488922),\n",
       " ('fruit', 'furnace', 0.2324517770323188),\n",
       " ('autograph', 'shore', 0.5829082354337567),\n",
       " ('automobile', 'wizard', 0.08124950081287755),\n",
       " ('mound', 'stove', 0.7232669363384278),\n",
       " ('grin', 'implement', 0.5427133055473967),\n",
       " ('asylum', 'fruit', 0.5355531446499311),\n",
       " ('asylum', 'monk', 0.1643767217469219),\n",
       " ('graveyard', 'madhouse', 1.0),\n",
       " ('glass', 'magician', 0.0699876896565751),\n",
       " ('boy', 'rooster', -0.27896672572639813),\n",
       " ('cushion', 'jewel', 0.6297586494936579),\n",
       " ('monk', 'slave', 0.01760629559607964),\n",
       " ('asylum', 'cemetery', 1.0),\n",
       " ('coast', 'forest', 0.19597057323106845),\n",
       " ('grin', 'land', -0.19014423158628785),\n",
       " ('shore', 'woodland', 0.5829082354337565),\n",
       " ('monk', 'oracle', 0.16437672174692256),\n",
       " ('boy', 'sage', -0.2789667257263977),\n",
       " ('automobile', 'cushion', 0.10698017727116439),\n",
       " ('mound', 'shore', 0.4353119369247698),\n",
       " ('lad', 'wizard', 0.9999999999999999),\n",
       " ('forest', 'graveyard', 0.021736823377401345),\n",
       " ('food', 'rooster', -0.17319048548859056),\n",
       " ('cemetery', 'woodland', 1.0),\n",
       " ('coast', 'hill', 0.030508452165813674),\n",
       " ('furnace', 'implement', 0.29628837084040893),\n",
       " ('crane', 'rooster', 0.9999999999999999),\n",
       " ('hill', 'woodland', 0.1402832281162962),\n",
       " ('car', 'journey', -0.017216391898347387),\n",
       " ('cemetery', 'mound', 0.711878226268536),\n",
       " ('glass', 'jewel', 0.0699876896565751),\n",
       " ('magician', 'oracle', 1.0),\n",
       " ('crane', 'implement', 0.5427133055473966),\n",
       " ('brother', 'lad', 0.060464431258630234),\n",
       " ('sage', 'wizard', 1.0),\n",
       " ('oracle', 'sage', 1.0000000000000002),\n",
       " ('bird', 'crane', 0.22700332650457627),\n",
       " ('food', 'fruit', -0.06334147524797211),\n",
       " ('brother', 'monk', 0.0027038874843922835),\n",
       " ('asylum', 'madhouse', 1.0),\n",
       " ('furnace', 'stove', 0.5033215137471463),\n",
       " ('magician', 'wizard', 0.9999999999999998),\n",
       " ('hill', 'mound', 0.09938815105177926),\n",
       " ('cord', 'string', 0.5534540907097668),\n",
       " ('glass', 'tumbler', 0.0699876896565751),\n",
       " ('grin', 'smile', 0.12328375381981346),\n",
       " ('serf', 'slave', 0.17901113883057354),\n",
       " ('journey', 'voyage', 0.2759488166318811),\n",
       " ('autograph', 'signature', 0.6078587088402039),\n",
       " ('coast', 'shore', 0.192387736696491),\n",
       " ('forest', 'woodland', 0.021736823377401345),\n",
       " ('implement', 'tool', 0.1286836045391548),\n",
       " ('cock', 'rooster', 0.9999999999999998),\n",
       " ('boy', 'lad', -0.2789667257263976),\n",
       " ('cushion', 'pillow', 0.6297586494936579),\n",
       " ('cemetery', 'graveyard', 1.0),\n",
       " ('automobile', 'car', 0.12445218995587057),\n",
       " ('midday', 'noon', 0.3865855883551047),\n",
       " ('gem', 'jewel', 0.9999999999999998)]"
      ]
     },
     "execution_count": 18,
     "metadata": {},
     "output_type": "execute_result"
    }
   ],
   "source": [
    "S_M2_300"
   ]
  },
  {
   "cell_type": "code",
   "execution_count": 19,
   "id": "entertaining-husband",
   "metadata": {},
   "outputs": [
    {
     "name": "stdout",
     "output_type": "stream",
     "text": [
      "M1 (0.022130125658850898, 0.8655710867131343)\n",
      "M1+ (0.14036557486677226, 0.2806042889617433)\n",
      "M2_10 (0.0519921893384193, 0.6906739968711639)\n",
      "M2_100 (0.0605958967676733, 0.6427159066274443)\n",
      "M2_300 (0.09254350730319316, 0.4781014633640243)\n"
     ]
    }
   ],
   "source": [
    "print('M1',get_correlation(S_M1, P))\n",
    "print('M1+', get_correlation(S_M1_plus, P))\n",
    "print('M2_10', get_correlation(S_M2_10, P))\n",
    "print('M2_100', get_correlation(S_M2_100, P))\n",
    "print('M2_300', get_correlation(S_M2_300, P))"
   ]
  },
  {
   "cell_type": "code",
   "execution_count": null,
   "id": "appreciated-longitude",
   "metadata": {},
   "outputs": [],
   "source": []
  }
 ],
 "metadata": {
  "kernelspec": {
   "display_name": "Python 3",
   "language": "python",
   "name": "python3"
  },
  "language_info": {
   "codemirror_mode": {
    "name": "ipython",
    "version": 3
   },
   "file_extension": ".py",
   "mimetype": "text/x-python",
   "name": "python",
   "nbconvert_exporter": "python",
   "pygments_lexer": "ipython3",
   "version": "3.9.1"
  }
 },
 "nbformat": 4,
 "nbformat_minor": 5
}
